{
 "cells": [
  {
   "cell_type": "code",
   "execution_count": 96,
   "metadata": {
    "collapsed": true
   },
   "outputs": [],
   "source": [
    "from datetime import datetime\n",
    "\n",
    "#from metpy.calc.indices import precipitable_water\n",
    "from metpy.calc.tools import get_layer\n",
    "from metpy.calc import (mixing_ratio, saturation_vapor_pressure, get_wind_dir, log_interp, equivalent_potential_temperature,\n",
    "                        parcel_profile, cape_cin, saturation_mixing_ratio)\n",
    "from metpy.io import get_upper_air_data\n",
    "from metpy.io.upperair import UseSampleData\n",
    "from metpy.testing import assert_array_equal, assert_almost_equal\n",
    "from metpy.units import units\n",
    "import numpy as np\n",
    "import numpy.ma as ma\n",
    "from metpy.constants import g, rho_l"
   ]
  },
  {
   "cell_type": "code",
   "execution_count": 97,
   "metadata": {
    "collapsed": true
   },
   "outputs": [],
   "source": [
    "with UseSampleData():\n",
    "    data = get_upper_air_data(datetime(2016, 5, 22, 0), 'DDC', source='wyoming')"
   ]
  },
  {
   "cell_type": "code",
   "execution_count": 98,
   "metadata": {},
   "outputs": [
    {
     "name": "stdout",
     "output_type": "stream",
     "text": [
      "OrderedDict([('pressure', <metpy.io._tools.UnitLinker object at 0x000001E16DBC9198>), ('height', <metpy.io._tools.UnitLinker object at 0x000001E16DBC9FD0>), ('temperature', <metpy.io._tools.UnitLinker object at 0x000001E16DBC9780>), ('dewpoint', <metpy.io._tools.UnitLinker object at 0x000001E16DBC9E80>), ('u_wind', <metpy.io._tools.UnitLinker object at 0x000001E16DBC9F28>), ('v_wind', <metpy.io._tools.UnitLinker object at 0x000001E16DAD44E0>), ('speed', <metpy.io._tools.UnitLinker object at 0x000001E16DAD4278>), ('direction', <metpy.io._tools.UnitLinker object at 0x000001E16DAD4080>)])\n"
     ]
    }
   ],
   "source": [
    "print(data.variables)"
   ]
  },
  {
   "cell_type": "code",
   "execution_count": 99,
   "metadata": {
    "collapsed": true
   },
   "outputs": [],
   "source": [
    "def most_unstable_parcel(pressure, temperature, dewpoint, heights=None,\n",
    "                         bottom=None, depth=300 * units.hPa):\n",
    "    \"\"\"\n",
    "    Determine the most unstable parcel in a layer.\n",
    "    Determines the most unstable parcle of air by calculating the equivalent\n",
    "    potential temperature and finding its maximum in the specified layer.\n",
    "    Parameters\n",
    "    ----------\n",
    "    pressure: `pint.Quantity`\n",
    "        Atmospheric pressure profile\n",
    "    temperature: `pint.Quantity`\n",
    "        Atmospheric temperature profile\n",
    "    dewpoint: `pint.Quantity`\n",
    "        Atmospheric dewpoint profile\n",
    "    heights: `pint.Quantity`, optional\n",
    "        Atmospheric height profile. Standard atmosphere assumed when None (the default).\n",
    "    bottom: `pint.Quantity`, optional\n",
    "        Bottom of the layer to consider for the calculation in pressure or height.\n",
    "        Defaults to using the bottom pressure or height.\n",
    "    depth: `pint.Quantity`, optional\n",
    "        Depth of the layer to consider for the calculation in pressure or height. Defaults\n",
    "        to 300 hPa.\n",
    "    Returns\n",
    "    -------\n",
    "    `pint.Quantity`\n",
    "        Pressure, temperature, and dew point of most unstable parcel in the profile.\n",
    "    See Also\n",
    "    --------\n",
    "    get_layer\n",
    "    \"\"\"\n",
    "    p_layer, T_layer, Td_layer = get_layer(pressure, temperature, dewpoint, bottom=bottom,\n",
    "                                           depth=depth, heights=heights, interpolate=False)\n",
    "    theta_e = equivalent_potential_temperature(p_layer, T_layer, Td_layer)\n",
    "    max_idx = np.argmax(theta_e)\n",
    "    return p_layer[max_idx], T_layer[max_idx], Td_layer[max_idx], max_idx"
   ]
  },
  {
   "cell_type": "code",
   "execution_count": 100,
   "metadata": {
    "collapsed": true
   },
   "outputs": [],
   "source": [
    "def mucape_cin(pressure, temperature, dewpoint, **kwargs):\n",
    "    r\"\"\"Calculate MUCAPE and MUCIN.\n",
    "    Calculate the convective available potential energy (CAPE) and convective inhibition (CIN)\n",
    "    of a given upper air profile and most unstable parcel path. CIN is integrated between the\n",
    "    surface and LFC, CAPE is integrated between the LFC and EL (or top of sounding).\n",
    "    Intersection points of the measured temperature profile and parcel profile are linearly\n",
    "    interpolated.\n",
    "    Parameters\n",
    "    ----------\n",
    "    pressure : `pint.Quantity`\n",
    "        The atmospheric pressure level(s) of interest. The first entry should be the starting\n",
    "        point pressure.\n",
    "    temperature : `pint.Quantity`\n",
    "        The sounding temperature\n",
    "    dewpoint : `pint.Quantity`\n",
    "        The sounding dew point\n",
    "    Returns\n",
    "    -------\n",
    "    `pint.Quantity`\n",
    "        Convective available potential energy (CAPE) for the most unstable parcel.\n",
    "    `pint.Quantity`\n",
    "        Convective inhibition (CIN) for the most unstable parcel.\n",
    "    See Also\n",
    "    --------\n",
    "    cape_cin, lfc, el\n",
    "    \"\"\"\n",
    "    mu_parcel = most_unstable_parcel(pressure, temperature, dewpoint, **kwargs)\n",
    "    max_idx = mu_parcel[3]\n",
    "    mu_pressure_profile = pressure[max_idx:]\n",
    "    mu_temperature_profile = temperature[max_idx:]\n",
    "    mu_dewpoint_profile = dewpoint[max_idx:]\n",
    "    mu_profile = parcel_profile(mu_pressure_profile, mu_parcel[1], mu_parcel[2])\n",
    "    return cape_cin(mu_pressure_profile, mu_temperature_profile,\n",
    "                    mu_dewpoint_profile, mu_profile)"
   ]
  },
  {
   "cell_type": "code",
   "execution_count": 101,
   "metadata": {
    "collapsed": true
   },
   "outputs": [],
   "source": [
    "def significant_hail_parameter(pressure, u, v, heights, temperature, dewpoint):\n",
    "    \"\"\"Calculate the significant hail parameter.\n",
    "    \"\"\"\n",
    "    # Take the guts of most unstable cape, since I'd be calling the most_unstable_parcel\n",
    "    # function twice if I actually used most_unstable_cape\n",
    "    mu_parcel = most_unstable_parcel(pressure, temperature, dewpoint)\n",
    "    max_idx = mu_parcel[3]\n",
    "    mu_pressure_profile = pressure[max_idx:]\n",
    "    mu_temperature_profile = temperature[max_idx:]\n",
    "    mu_dewpoint_profile = dewpoint[max_idx:]\n",
    "    mu_profile = parcel_profile(mu_pressure_profile, mu_parcel[1], mu_parcel[2])\n",
    "    mucape, _ = cape_cin(mu_pressure_profile, mu_temperature_profile,\n",
    "                         mu_dewpoint_profile, mu_profile)\n",
    "    print(mucape)\n",
    "    #Get most unstable parcel mixing ratio\n",
    "    mu_mixr = saturation_mixing_ratio(mu_pressure_profile[0], mu_dewpoint_profile[0]).to('g/kg')\n",
    "    print(mu_mixr.to('g/kg'))\n",
    "    layer_75p, layer_75t, layer_75h = get_layer(pressure, temperature, heights, bottom=700 * units('hPa'), depth=200 * units('hPa'))\n",
    "    lapse_rate = (layer_75t[0] - layer_75t[-1]) / ((layer_75h[0] - layer_75h[-1]).to('kilometers'))\n",
    "    print(lapse_rate)\n",
    "    temp_500 = temperature[pressure == 500 * units('hPa')]\n",
    "    print(temp_500)\n",
    "    _, _, shear6 = bulk_shear(pressure, u, v, heights=heights, depth=6000 * units('meter'))\n",
    "    print(shear6)\n",
    "    freezing_level = heights[temperature < 0 * units('degC')][0]-heights[0]\n",
    "    print(freezing_level)\n",
    "    \n",
    "    "
   ]
  },
  {
   "cell_type": "code",
   "execution_count": 102,
   "metadata": {},
   "outputs": [
    {
     "name": "stdout",
     "output_type": "stream",
     "text": [
      "2497.603714056522 joule / kilogram\n",
      "13.677279366001597 gram / kilogram\n",
      "-7.566157286619454 delta_degC / kilometer\n",
      "[-10.1] degC\n",
      "17.07021536290158 meter / second\n",
      "3477.0 meter\n"
     ]
    }
   ],
   "source": [
    "significant_hail_parameter(data.variables['pressure'][:], data.variables['u_wind'][:], data.variables['v_wind'][:], data.variables['height'][:], data.variables['temperature'][:], data.variables['dewpoint'][:])"
   ]
  },
  {
   "cell_type": "code",
   "execution_count": 103,
   "metadata": {
    "collapsed": true
   },
   "outputs": [],
   "source": [
    "def bunkers_storm_motion(pressure, u, v, heights):\n",
    "    r\"\"\"Calculate the Bunkers RM and LM storm motions and sfc-6km mean flow.\n",
    "    \n",
    "    Uses the storm motion calculation from [Bunkers et al, 2000]_,\n",
    "    which does not require effective inflow layer calculations,\n",
    "    unlike the more recent version in [Bunkers et al 2014]_.\n",
    "    \n",
    "    Parameters\n",
    "    ----------\n",
    "    pressure : array-like\n",
    "        Pressure from sounding\n",
    "    u : array-like\n",
    "        U component of the wind\n",
    "    v : array-like\n",
    "        V component of the wind\n",
    "    heigts : array-like\n",
    "        Heights from sounding\n",
    "    \n",
    "    Returns\n",
    "    -------\n",
    "    RM_vector\n",
    "        U and v component of Bunkers RM storm motion\n",
    "    LM_vector\n",
    "        U and v component of Bunkers LM storm motion\n",
    "    mean_vector\n",
    "        U and v component of sfc-6km mean flow\n",
    "        \n",
    "    See Also\n",
    "    --------\n",
    "    bunkers_storm_motion_2014\n",
    "    \n",
    "    Citations:\n",
    "    \n",
    "    Bunkers, M. J., B. A. Klimowski, J. W. Zeitler, R. L. Thompson, and M. L. Weisman, 2000:\n",
    "        Predicting supercell motion using a new hodograph technique. Wea. Forecasting, 15, 61–79.\n",
    "    \n",
    "    \n",
    "    Bunkers, M. J., D. A. Barber, R. L. Thompson, R. Edwards, and J. Garner, 2014: \n",
    "        Choosing a universal mean wind for supercell motion prediction. J. Operational Meteor.,\n",
    "        2 (11), 115–129, doi: https://dx.doi.org/10.15191/nwajom.2014.0211.\n",
    "    \n",
    "    \n",
    "     \"\"\"\n",
    "\n",
    "    ums = u.to('m/s')\n",
    "    vms = v.to('m/s')\n",
    "    \n",
    "    \n",
    "    # mean wind from sfc-6km\n",
    "    u6m, v6m = mean_pressure_weighted(pressure, ums, vms, heights=heights, depth = 6000 * units('meter'))\n",
    "\n",
    "    # mean wind from sfc-500m\n",
    "    u5m, v5m = mean_pressure_weighted(pressure, ums, vms, heights=heights, depth = 500 * units('meter'))\n",
    "    \n",
    "    # mean wind from 5.5-6km\n",
    "    u55m, v55m = mean_pressure_weighted(pressure, ums, vms, heights=heights, depth = 500 * units('meter'), \n",
    "                                             bottom = heights[0] + 5500 * units('meter'))\n",
    "\n",
    "    # Calculate the shear vector from sfc-500m to 5.5-6km\n",
    "    u6shr = u55m - u5m\n",
    "    v6shr = v55m - v5m\n",
    "\n",
    "    # making the shear vector\n",
    "    vl = [u6shr.magnitude, v6shr.magnitude, 0]\n",
    "\n",
    "    # Create a k hat vector\n",
    "    vk = [0,0,1]\n",
    "\n",
    "    # Take the cross product of the wind shear and k, and divide by the vector magnitude and \n",
    "    # multiply by the deviaton empirically calculated in Bunkers (2000) (7.5 m/s)\n",
    "    rdev = np.cross(vl, vk) * (7.5 / (np.sqrt(u6shr.magnitude ** 2 + v6shr.magnitude ** 2)))\n",
    "    ldev = np.cross(vk, vl) * (7.5 / (np.sqrt(u6shr.magnitude ** 2 + v6shr.magnitude ** 2)))\n",
    "    \n",
    "    # Add the deviations to the layer average wind to get the RM motion\n",
    "    uRM = u6m.magnitude + rdev[0]\n",
    "    vRM = v6m.magnitude + rdev[1]\n",
    "\n",
    "    # Subtract the deviations to get the LM motion\n",
    "    uLM = u6m.magnitude - rdev[0]\n",
    "    vLM = v6m.magnitude - rdev[1]\n",
    "    \n",
    "    RM_vector = np.asarray([uRM, vRM]) * units('m/s')\n",
    "    \n",
    "    LM_vector = np.asarray([uLM, vLM]) * units('m/s')\n",
    "    \n",
    "    mean_vector = np.asarray([u6m.magnitude, v6m.magnitude]) * units('m/s').to(u.units)\n",
    "    \n",
    "    return RM_vector, LM_vector, mean_vector\n",
    "\n",
    "\n"
   ]
  },
  {
   "cell_type": "code",
   "execution_count": 104,
   "metadata": {
    "collapsed": true
   },
   "outputs": [],
   "source": [
    "def bulk_shear(pressure, u, v, heights=None, bottom=None, depth=None):\n",
    "    r\"\"\"Calculate bulk shear through a layer. \n",
    "    \n",
    "    Layer top and bottom specified in meters or pressure.\n",
    "    \n",
    "    Parameters\n",
    "    ----------\n",
    "    pressure : `pint.Quantity`\n",
    "        Atmospheric pressure profile\n",
    "    u : `pint.Quantity`\n",
    "        U-component of wind.\n",
    "    v : `pint.Quantity`\n",
    "        V-component of wind.\n",
    "    height : `pint.Quantity`\n",
    "        Heights from sounding\n",
    "    depth: `pint.Quantity`\n",
    "        The depth of the layer in meters or hPa\n",
    "    bottom: `pint.Quantity`\n",
    "        The bottom of the layer in meters or hPa.\n",
    "        If in meters, must be in the same coordinates as the given\n",
    "        heights (i.e., don't use meters AGL unless given heights\n",
    "        are in meters AGL.) Default is the surface (1st observation.)\n",
    "        \n",
    "    Returns\n",
    "    -------\n",
    "    `pint.Quantity'\n",
    "        u_shr: u-component of layer bulk shear, in m/s\n",
    "    `pint.Quantity'\n",
    "        v_shr: v-component of layer bulk shear, in m/s\n",
    "    `pint.Quantity'\n",
    "        shr_mag: magnitude of layer bulk shear, in m/s\n",
    "        \n",
    "    \"\"\"   \n",
    "    \n",
    "    \n",
    "    u = u.to('meters/second')\n",
    "    v = v.to('meters/second')\n",
    "    \n",
    "    sort_inds = np.argsort(pressure[::-1])\n",
    "    pressure = pressure[sort_inds]\n",
    "    heights = heights[sort_inds]\n",
    "    u = u[sort_inds]\n",
    "    v = v[sort_inds]\n",
    "        \n",
    "    w_int = get_layer(pressure, u, v, heights=heights, bottom=bottom, depth=depth)\n",
    "    \n",
    "    u_shr = w_int[1][-1] - w_int[1][0]\n",
    "    v_shr = w_int[2][-1] - w_int[2][0]\n",
    "    \n",
    "    shr_mag = np.sqrt((u_shr ** 2) + (v_shr ** 2))\n",
    "    \n",
    "    return u_shr, v_shr, shr_mag\n",
    "\n",
    "    "
   ]
  },
  {
   "cell_type": "code",
   "execution_count": 105,
   "metadata": {
    "collapsed": true
   },
   "outputs": [],
   "source": [
    "#Supercell composite calculation. Should use mucape, esrh, and ebwd, but for now we'll use sbcape, sfc-3 srh, and sfc-6 shear\n",
    "def supercell_comp(mucape, esrh, ebwd):\n",
    "    r\"\"\"Calculate the supercell composite parameter.\n",
    "     \n",
    "    The supercell composite parameter is designed to identify\n",
    "    environments favorable for the development of supercells,\n",
    "    and is calculated using the formula developed by \n",
    "    [Thompson, Edwards, and Mead, 2004]:\n",
    "    \n",
    "    SCP = (mucape / 1000 J/kg) * (esrh / 50 m^2/s^2) * (ebwd / 20 m/s) \n",
    "    \n",
    "    The ebwd term is set to zero below 10 m/s and\n",
    "    capped at 1 when ebwd exceeds 20 m/s.\n",
    "    \n",
    "    Parameters\n",
    "    ----------\n",
    "    mucape : array-like\n",
    "        Most-unstable CAPE\n",
    "    esrh : array-like\n",
    "        Effective-layer storm-relative helicity\n",
    "    ebwd : array-like\n",
    "        Effective bulk shear\n",
    "        \n",
    "    Returns\n",
    "    -------\n",
    "    number\n",
    "        supercell composite\n",
    "        \n",
    "    Citation:\n",
    "    Thompson, R.L., R. Edwards, and C. M. Mead, 2004b:\n",
    "        An update to the supercell composite\n",
    "        and significant tornado parameters.\n",
    "        Preprints, 22nd Conf. on Severe Local\n",
    "        Storms, Hyannis, MA, Amer.\n",
    "        Meteor. Soc.\n",
    "        \n",
    "    \"\"\"\n",
    "    \n",
    "    ebwd = ebwd.to('m/s')\n",
    "    ebwd = ebwd.magnitude\n",
    "    inds = np.where((ebwd <= 20.) & (ebwd >= 10.))\n",
    "    inds1 = np.where(ebwd < 10.)\n",
    "    inds2 = np.where(ebwd > 20.)\n",
    "    ebwd[inds] = ebwd[inds] / 20.\n",
    "    ebwd[inds1] = 0.\n",
    "    ebwd[inds2] = 1.\n",
    "    sup_comp = (mucape.magnitude / 1000.) * (esrh.magnitude / 50.) * ebwd\n",
    "     \n",
    "    return sup_comp"
   ]
  },
  {
   "cell_type": "code",
   "execution_count": 106,
   "metadata": {
    "collapsed": true
   },
   "outputs": [],
   "source": [
    "def sigtor(sbcape, sblcl, srh1, shr6):\n",
    "    r\"\"\"Calculate the significant tornado parameter (fixed layer).\n",
    "     \n",
    "    The significant tornado parameter is designed to identify\n",
    "    environments favorable for the production of significant\n",
    "    tornadoes contingent upon the development of supercells.\n",
    "    It's calculated according to the formula used on the SPC\n",
    "    mesoanalysis page, updated in [Thompson, Edwards, and Mead, 2004]:\n",
    "    \n",
    "    sigtor = (sbcape / 1500 J/kg) * ((2000 m - sblcl) / 1000 m) * (srh1 / 150 m^s/s^2) * (shr6 / 20 m/s)\n",
    "    \n",
    "    The sblcl term is set to zero when the lcl is above 2000m and \n",
    "    capped at 1 when below 1000m, and the shr6 term is set to 0 \n",
    "    when shr6 is below 12.5 m/s and maxed out at 1.5 when shr6\n",
    "    exceeds 30 m/s.\n",
    "    \n",
    "    Parameters\n",
    "    ----------\n",
    "    sbcape : array-like\n",
    "        Surface-based CAPE\n",
    "    sblcl : array-like\n",
    "        Surface-based lifted condensation level\n",
    "    srh1 : array-like\n",
    "        Surface-1km storm-relative helicity\n",
    "    shr6 : array-like\n",
    "        Surface-6km bulk shear\n",
    "        \n",
    "    Returns\n",
    "    -------\n",
    "    number\n",
    "        significant tornado parameter\n",
    "    \n",
    "    Citation:\n",
    "    Thompson, R.L., R. Edwards, and C. M. Mead, 2004b:\n",
    "        An update to the supercell composite\n",
    "        and significant tornado parameters.\n",
    "        Preprints, 22nd Conf. on Severe Local\n",
    "        Storms, Hyannis, MA, Amer.\n",
    "        Meteor. Soc.\n",
    "        \n",
    "    \"\"\"\n",
    "    \n",
    "    shr6 = shr6.to('m/s')\n",
    "    shr6 = shr6.magnitude\n",
    "    sblcl = sblcl.magnitude\n",
    "    ind = np.where((sblcl <= 2000.) & (sblcl >= 1000.))\n",
    "    ind1 = np.where(sblcl < 1000.)\n",
    "    ind2 = np.where(sblcl > 2000.)\n",
    "    sind = np.where((shr6 <= 30.) & (shr6 >= 12.5))\n",
    "    sind1 = np.where(shr6 < 12.5)\n",
    "    sind2 = np.where(shr6 > 30.)\n",
    "    sblcl[ind] = (2000. - sblcl[ind]) / 1000.\n",
    "    sblcl[ind1] = 1.\n",
    "    sblcl[ind2] = 0.\n",
    "    shr6[sind] = shr6[sind] / 20.\n",
    "    shr6[sind1] = 0.\n",
    "    shr6[sind2] = 1.5\n",
    "    sigtor = (sbcape.magnitude / 1500.) * sblcl * (srh1.magnitude / 150.) * shr6\n",
    "     \n",
    "    return sigtor"
   ]
  },
  {
   "cell_type": "code",
   "execution_count": 107,
   "metadata": {
    "collapsed": true
   },
   "outputs": [],
   "source": [
    "#Let's try to calculate the significant hail parameter.\n",
    "def significant_hail(pressure, u, v, height, temperature, dewpoint):\n",
    "    r\"\"\"Calculate the Significant Hail Parameter (SHIP)\n",
    "    \"\"\"\n",
    "    "
   ]
  },
  {
   "cell_type": "code",
   "execution_count": 108,
   "metadata": {
    "collapsed": true
   },
   "outputs": [],
   "source": [
    "def mean_pressure_weighted(pressure, *args, **kwargs):\n",
    "    r\"\"\"Calculate pressure-weighted mean of an arbitrary variable through a layer.\n",
    "\n",
    "    Layer top and bottom specified in height or pressure.\n",
    "\n",
    "    Parameters\n",
    "    ----------\n",
    "    pressure : `pint.Quantity`\n",
    "        Atmospheric pressure profile\n",
    "    *args : `pint.Quantity`\n",
    "        Parameters for which the pressure-weighted mean is to be calculated.\n",
    "    heights : `pint.Quantity`, optional\n",
    "        Heights from sounding\n",
    "    bottom: `pint.Quantity`, optional\n",
    "        The bottom of the layer in either the provided height coordinate\n",
    "        or in pressure. Don't provide in meters AGL unless the provided\n",
    "        height coordinate is meters AGL. Default is the first observation,\n",
    "        assumed to be the surface.\n",
    "    depth: `pint.Quantity`, optional\n",
    "        The depth of the layer in meters or hPa.\n",
    "\n",
    "    Returns\n",
    "    -------\n",
    "    `pint.Quantity`\n",
    "        u_mean: u-component of layer mean wind.\n",
    "    `pint.Quantity`\n",
    "        v_mean: v-component of layer mean wind.\n",
    "\n",
    "    \"\"\"\n",
    "    heights = kwargs.pop('heights', None)\n",
    "    bottom = kwargs.pop('bottom', None)\n",
    "    depth = kwargs.pop('depth', None)\n",
    "    ret = []  # Returned variable means in layer\n",
    "    for datavar in args:\n",
    "        layer_p, layer_arg = get_layer(pressure, datavar, heights=heights,\n",
    "                                       bottom=bottom, depth=depth)\n",
    "        # Taking the integral of the weights (pressure) to feed into the weighting\n",
    "        # function. Said integral works out to this function:\n",
    "        pres_int = 0.5 * (layer_p[-1].magnitude**2 - layer_p[0].magnitude**2)\n",
    "        arg_mean = (np.trapz(layer_arg * layer_p, x=layer_p) / pres_int)\n",
    "        ret.append(arg_mean * datavar.units)\n",
    "\n",
    "    return ret"
   ]
  },
  {
   "cell_type": "code",
   "execution_count": 109,
   "metadata": {
    "collapsed": true
   },
   "outputs": [],
   "source": [
    "def mean_wind_pressure_weighted_old(u, v, p, hgt=None, depth=None, bottom=None, obs_only=False):\n",
    "    r\"\"\"Calculate pressure-weighted mean wind through a layer. \n",
    "    \n",
    "    Layer top and bottom specified in height or pressure.\n",
    "    \n",
    "    Parameters\n",
    "    ----------\n",
    "    u : `pint.Quantity`\n",
    "        U-component of wind.\n",
    "    v : `pint.Quantity`\n",
    "        V-component of wind.\n",
    "    p : `pint.Quantity`\n",
    "        Atmospheric pressure profile\n",
    "    hgt : `pint.Quantity`\n",
    "        Heights from sounding\n",
    "    depth: `pint.Quantity`\n",
    "        The depth of the layer in meters or hPa.\n",
    "    bottom: `pint.Quantity`\n",
    "        The bottom of the layer in either the provided height coordinate\n",
    "        or in pressure. Don't provide in meters AGL unless the provided\n",
    "        height coordinate is meters AGL. Default is the first observation,\n",
    "        assumed to be the surface.\n",
    "        \n",
    "    Returns\n",
    "    -------\n",
    "    `pint.Quantity`\n",
    "        u_mean: u-component of layer mean wind, in m/s\n",
    "    `pint.Quantity`\n",
    "        v_mean: v-component of layer mean wind, in m/s\n",
    "\n",
    "    \"\"\"  \n",
    "    u = u.to('meters/second')\n",
    "    v = v.to('meters/second')\n",
    "    layer_p, layer_u, layer_v = get_layer(p, u, v, heights=hgt, bottom=bottom, depth=depth)\n",
    "    \n",
    "    u_mean = np.trapz(layer_u * layer_p, x=layer_p) / np.trapz(layer_p, x=layer_p) * units('m/s')\n",
    "    v_mean = np.trapz(layer_v * layer_p, x=layer_p) / np.trapz(layer_p, x=layer_p) * units('m/s')\n",
    "\n",
    "    return u_mean, v_mean\n",
    "    "
   ]
  },
  {
   "cell_type": "code",
   "execution_count": 110,
   "metadata": {
    "collapsed": true
   },
   "outputs": [],
   "source": [
    "def critical_angle_old(ushr, vshr, um, vm, usfc, vsfc):\n",
    "    r\"\"\"Calculate the critical angle.\n",
    "    \n",
    "    The critical angle is the angle between the 10m storm-relative inflow vector\n",
    "    and the 10m-500m shear vector. A critical angle near 90 degrees indicates \n",
    "    that a storm in this environment on the indicated storm motion vector \n",
    "    is likely ingesting purely streamwise vorticity into its updraft, and Esterheld and \n",
    "    Giuliana (2008) showed that significantly tornadic supercells tend to occur in environments\n",
    "    with critical angles near 90 degrees.\n",
    "\n",
    "    Parameters\n",
    "    ----------\n",
    "    \n",
    "    ushr : array-like\n",
    "        U-component of 10m-500m shear vector.\n",
    "    vshr : array-like\n",
    "        V-component of 10m-500m shear vector.\n",
    "    um : array-like\n",
    "        U-component of storm motion.\n",
    "    vm : array-like\n",
    "        V-component of storm motion.\n",
    "    usfc : array-like\n",
    "        10m wind u component.\n",
    "    vsfc :\n",
    "        10m wind v component.\n",
    "        \n",
    "    Returns\n",
    "    -------\n",
    "    `pint.Quantity'\n",
    "        critical angle in degrees\n",
    "        \n",
    "    \n",
    "    Esterheld, J., & Giuliano, D. (2008). Discriminating between Tornadic and Non-Tornadic Supercells:\n",
    "    A New Hodograph Technique. E-Journal Of Severe Storms Meteorology, 3(2).Retrieved July 10, 2017, \n",
    "    from http://ejssm.org/ojs/index.php/ejssm/article/view/33/38\"\"\"  \n",
    "    \n",
    "    #Make everything relative to the sfc wind orientation\n",
    "    umn = um - usfc\n",
    "    vmn = vm - vsfc\n",
    "    \n",
    "    #Get direction of each vector\n",
    "    shrdir = get_wind_dir(ushr, vshr)\n",
    "    smdir = get_wind_dir(umn,vmn)\n",
    "    #Account for really weird, unlikely storm motions to the SW\n",
    "    smdir[(smdir.magnitude < shrdir.magnitude) & (smdir.magnitude < 90.)] = smdir[(smdir.magnitude < shrdir.magnitude) & (smdir.magnitude < 90.)] + (360. * units('degrees')) \n",
    "    critical_angle = smdir - shrdir\n",
    "    return critical_angle"
   ]
  },
  {
   "cell_type": "code",
   "execution_count": 123,
   "metadata": {
    "collapsed": true
   },
   "outputs": [],
   "source": [
    "def critical_angle(pressure, u, v, heights, stormu, stormv):\n",
    "    r\"\"\"Calculate the critical angle.\n",
    "    \n",
    "    The critical angle is the angle between the 10m storm-relative inflow vector\n",
    "    and the 10m-500m shear vector. A critical angle near 90 degrees indicates \n",
    "    that a storm in this environment on the indicated storm motion vector \n",
    "    is likely ingesting purely streamwise vorticity into its updraft, and Esterheld and \n",
    "    Giuliana (2008) showed that significantly tornadic supercells tend to occur in environments\n",
    "    with critical angles near 90 degrees.\n",
    "\n",
    "    Parameters\n",
    "    ----------\n",
    "    \n",
    "    pressure : array-like\n",
    "        Pressures from sounding.\n",
    "    u : array-like\n",
    "        U-component of sounding winds.\n",
    "    v : array-like\n",
    "        V-component of sounding winds.\n",
    "    heights : array-like\n",
    "        Heights from sounding.\n",
    "    stormu : array-like\n",
    "        U-component of storm motion.\n",
    "    stormv :\n",
    "        V-component of storm motion.\n",
    "        \n",
    "    Returns\n",
    "    -------\n",
    "    `pint.Quantity'\n",
    "        critical angle in degrees\n",
    "        \n",
    "    \n",
    "    Esterheld, J., & Giuliano, D. (2008). Discriminating between Tornadic and Non-Tornadic Supercells:\n",
    "    A New Hodograph Technique. E-Journal Of Severe Storms Meteorology, 3(2).Retrieved July 10, 2017, \n",
    "    from http://ejssm.org/ojs/index.php/ejssm/article/view/33/38\"\"\" \n",
    "    \n",
    "    #Convert everything to m/s\n",
    "    u = u.to('m/s')\n",
    "    v = v.to('m/s')\n",
    "    stormu = stormu.to('m/s')\n",
    "    stormv = stormv.to('m/s')\n",
    "    \n",
    "    sort_inds = np.argsort(pressure[::-1])\n",
    "    pressure = pressure[sort_inds]\n",
    "    heights = heights[sort_inds]\n",
    "    u = u[sort_inds]\n",
    "    v = v[sort_inds]\n",
    "\n",
    "    #Calculate sfc-500m shear vector\n",
    "    shr5 = bulk_shear(pressure, u, v, heights=heights, depth = 500 * units('meter'))\n",
    "    \n",
    "    #Make everything relative to the sfc wind orientation\n",
    "    umn = stormu - u[0]\n",
    "    vmn = stormv - v[0]\n",
    "    \n",
    "    vshr = np.asarray([shr5[0].magnitude, shr5[1].magnitude])\n",
    "    vsm = np.asarray([umn.magnitude, vmn.magnitude])\n",
    "    angle_c = np.dot(vshr,vsm)/np.linalg.norm(vshr)/np.linalg.norm(vsm)\n",
    "    critical_angle = np.arccos(np.clip(angle_c, -1, 1))\n",
    "    \n",
    "    return (critical_angle * units('radian')).to('degrees')"
   ]
  },
  {
   "cell_type": "code",
   "execution_count": 124,
   "metadata": {
    "collapsed": true
   },
   "outputs": [],
   "source": [
    "def energy_helicity_index(cape, srh):\n",
    "    \"\"\"Calculate the energy-helicity index (EHI).\n",
    "    \n",
    "    Requires CAPE and storm-relative helicity (either sfc-1km, sfc-3km, or effective).\n",
    "    \n",
    "    Parameters\n",
    "    ----------\n",
    "    \n",
    "    cape : array-like\n",
    "        Convective Available Potential Energy.\n",
    "    srh : array-like\n",
    "        Storm-relative helicity over the desired layer.\n",
    "      \n",
    "    Returns\n",
    "    -------\n",
    "    `pint.Quantity'\n",
    "        Energy-helicity index (dimensionless)\n",
    "        \n",
    "    Citation:\n",
    "    Rasmusen, E. & Blanchard, D. (1998). A Baseline Climatology of Sounding-Derived Supercell and\n",
    "    Tornado Forecast Parameters. Wea. Forecasting., 13, 1148-1164,\n",
    "    doi: https://doi.org/10.1175/1520-0434(1998)013<1148:ABCOSD>2.0.CO;2\n",
    "    \n",
    "    \"\"\"\n",
    "    \n",
    "    ehi = (cape.magnitude * srh.magnitude) / 160000\n",
    "    \n",
    "    return ehi"
   ]
  },
  {
   "cell_type": "code",
   "execution_count": 125,
   "metadata": {
    "collapsed": true
   },
   "outputs": [],
   "source": [
    "def test_ehi():\n",
    "    \"\"\"Test energy helicity index function.\"\"\"\n",
    "    cape = [1000., 1000., 3000., 1000., 3000, 6000] * units('J/kg')\n",
    "    srh = [100., 200., 200., 600., 300, 400] * units('m^2/s^2')\n",
    "    truth = [0.625, 1.25, 3.75, 3.75, 5.625, 15]\n",
    "    ehi = energy_helicity_index(cape, srh)\n",
    "    assert_almost_equal(ehi, truth, 6)    "
   ]
  },
  {
   "cell_type": "code",
   "execution_count": 126,
   "metadata": {
    "collapsed": true
   },
   "outputs": [],
   "source": [
    "test_ehi()"
   ]
  },
  {
   "cell_type": "code",
   "execution_count": 127,
   "metadata": {
    "collapsed": true
   },
   "outputs": [],
   "source": [
    "def test_bulk_shear():\n",
    "    \"\"\"Test bulk shear with observed sounding.\"\"\"\n",
    "    with UseSampleData():\n",
    "        data = get_upper_air_data(datetime(2016, 5, 22, 0), 'DDC', source='wyoming')\n",
    "    shr6 = bulk_shear(data.variables['pressure'][:], data.variables['u_wind'][:], data.variables['v_wind'][:], heights=data.variables['height'][:], depth = 6000 * units('meter'))\n",
    "    truth = [29.899581266946115, -14.389225800205509, 33.181844117951236] * units('knots')\n",
    "    assert_array_equal(shr6[0].to('knots'), truth[0])    \n",
    "    assert_array_equal(shr6[1].to('knots'), truth[1])    \n",
    "    assert_array_equal(shr6[2].to('knots'), truth[2])"
   ]
  },
  {
   "cell_type": "code",
   "execution_count": 128,
   "metadata": {
    "collapsed": true
   },
   "outputs": [],
   "source": [
    "def test_bulk_shear_elevated():\n",
    "    \"\"\"Test bulk shear with observed sounding and a base above the surface.\"\"\"\n",
    "    with UseSampleData():\n",
    "        data = get_upper_air_data(datetime(2016, 5, 22, 0), 'DDC', source='wyoming')\n",
    "    shr6 = bulk_shear(data.variables['pressure'][:], data.variables['u_wind'][:], data.variables['v_wind'][:], heights=data.variables['height'][:], bottom = data.variables['height'][0] + 3000 * units('meter'), depth=3000 * units('meter'),)\n",
    "    truth = [0.9655943923302139, -3.8405428777944466, 3.9600684497464442] * units('m/s')\n",
    "    assert_array_equal(shr6[0], truth[0])    \n",
    "    assert_array_equal(shr6[1], truth[1])    \n",
    "    assert_array_equal(shr6[2], truth[2])"
   ]
  },
  {
   "cell_type": "code",
   "execution_count": 129,
   "metadata": {
    "collapsed": true
   },
   "outputs": [],
   "source": [
    "test_bulk_shear()"
   ]
  },
  {
   "cell_type": "code",
   "execution_count": 130,
   "metadata": {
    "collapsed": true
   },
   "outputs": [],
   "source": [
    "test_bulk_shear_elevated()"
   ]
  },
  {
   "cell_type": "code",
   "execution_count": 131,
   "metadata": {
    "collapsed": true
   },
   "outputs": [],
   "source": [
    "def test_critical_angle():\n",
    "    \"\"\"Test critical angle with observed sounding.\"\"\"\n",
    "    with UseSampleData():\n",
    "        data = get_upper_air_data(datetime(2016, 5, 22, 0), 'DDC', source='wyoming')\n",
    "    critical = critical_angle(data.variables['pressure'][:], data.variables['u_wind'][:], data.variables['v_wind'][:], data.variables['height'][:], stormu = 20 * units('knot'), stormv = 20 * units('knot')) \n",
    "    truth = [73.5228229035071] * units('degree')\n",
    "    assert_array_equal(critical, truth)    "
   ]
  },
  {
   "cell_type": "code",
   "execution_count": 132,
   "metadata": {
    "collapsed": true
   },
   "outputs": [],
   "source": [
    "test_critical_angle()"
   ]
  },
  {
   "cell_type": "code",
   "execution_count": null,
   "metadata": {
    "collapsed": true
   },
   "outputs": [],
   "source": [
    "def test_bunkers_motion():\n",
    "    \"\"\"Test Bunkers storm motion with observed sounding.\"\"\"\n",
    "    with UseSampleData():\n",
    "        data = get_upper_air_data(datetime(2016, 5, 22, 0), 'DDC', source='wyoming')\n",
    "    motion = bunkers_storm_motion(data.variables['pressure'][:], data.variables['u_wind'][:], data.variables['v_wind'][:], \n",
    "                                  data.variables['height'][:])\n",
    "    truth = [1.4537892577864744, 2.0169333025630616, 10.587950761120482, 13.915130377372801, 6.0208700094534775, 7.9660318399679308] * units('m/s')\n",
    "    assert_almost_equal(motion[0][0], truth[0], 8)    \n",
    "    assert_almost_equal(motion[0][1], truth[1], 8)    \n",
    "    assert_almost_equal(motion[1][0], truth[2], 8)\n",
    "    assert_almost_equal(motion[1][1], truth[3], 8)    \n",
    "    assert_almost_equal(motion[2][0], truth[4], 8)    \n",
    "    assert_almost_equal(motion[2][1], truth[5], 8)                              \n",
    "                                  "
   ]
  },
  {
   "cell_type": "code",
   "execution_count": null,
   "metadata": {
    "collapsed": true
   },
   "outputs": [],
   "source": [
    "test_bunkers_2000()"
   ]
  },
  {
   "cell_type": "code",
   "execution_count": null,
   "metadata": {
    "collapsed": true
   },
   "outputs": [],
   "source": [
    "def test_supercell_composite():\n",
    "    \"\"\"Test supercell composite function.\"\"\"\n",
    "    mucape = [2000., 1000., 500., 2000.] * units('J/kg')\n",
    "    esrh = [400., 150., 45., 45.] * units('m^2/s^2')\n",
    "    ebwd = [30., 15., 5., 5.] * units('m/s')\n",
    "    truth = [16., 2.25, 0., 0.]\n",
    "    supercell_composite = supercell_comp(mucape, esrh, ebwd)\n",
    "    assert_array_equal(supercell_composite, truth)    \n",
    "                             \n",
    "                                  "
   ]
  },
  {
   "cell_type": "code",
   "execution_count": null,
   "metadata": {
    "collapsed": true
   },
   "outputs": [],
   "source": [
    "test_supercell_composite()"
   ]
  },
  {
   "cell_type": "code",
   "execution_count": null,
   "metadata": {
    "collapsed": true
   },
   "outputs": [],
   "source": [
    "def test_sigtor():\n",
    "    \"\"\"Test significant tornado parameter function.\"\"\"\n",
    "    sbcape = [2000., 2000., 2000., 2000., 3000, 4000] * units('J/kg')\n",
    "    sblcl = [3000., 1500., 500., 1500., 1500, 800] * units('meter')\n",
    "    srh1 = [200., 200., 200., 200., 300, 400] * units('m^2/s^2')\n",
    "    shr6 = [20., 5., 20., 35., 20., 35] * units('m/s')\n",
    "    truth = [0., 0, 1.777778, 1.333333, 2., 10.666667]\n",
    "    significant_tornado = sigtor(sbcape, sblcl, srh1, shr6)\n",
    "    assert_almost_equal(significant_tornado, truth, 6)    \n",
    "                             "
   ]
  },
  {
   "cell_type": "code",
   "execution_count": null,
   "metadata": {
    "collapsed": true
   },
   "outputs": [],
   "source": [
    "test_sigtor()"
   ]
  },
  {
   "cell_type": "code",
   "execution_count": null,
   "metadata": {
    "collapsed": true
   },
   "outputs": [],
   "source": [
    " "
   ]
  },
  {
   "cell_type": "code",
   "execution_count": null,
   "metadata": {
    "collapsed": true
   },
   "outputs": [],
   "source": []
  },
  {
   "cell_type": "code",
   "execution_count": null,
   "metadata": {
    "collapsed": true
   },
   "outputs": [],
   "source": [
    "def test_mean_wind_pressure_weighted():\n",
    "    \"\"\"Test pressure-weighted mean wind function with vertical interpolation.\"\"\"\n",
    "    with UseSampleData():\n",
    "        data = get_upper_air_data(datetime(2016, 5, 22, 0), 'DDC', source='wyoming')\n",
    "    mean6 = mean_pressure_weighted(data.variables['pressure'][:], data.variables['u_wind'][:], data.variables['v_wind'][:], heights=data.variables['height'][:], depth = 6000 * units('meter'))\n",
    "    truth = [6.0208700094534775, 7.966031839967931] * units('m/s')\n",
    "    assert_almost_equal(mean6[0], truth[0], 7)    \n",
    "    assert_almost_equal(mean6[1], truth[1], 7)    "
   ]
  },
  {
   "cell_type": "code",
   "execution_count": null,
   "metadata": {
    "collapsed": true
   },
   "outputs": [],
   "source": [
    "test_mean_wind_pressure_weighted()"
   ]
  },
  {
   "cell_type": "code",
   "execution_count": null,
   "metadata": {
    "collapsed": true
   },
   "outputs": [],
   "source": [
    "mean6 = mean_pressure_weighted(data.variables['pressure'][:], data.variables['u_wind'][:], data.variables['v_wind'][:], height=data.variables['height'][:], depth = 3000 * units('meter'), bottom = 3000 * units('meter'))\n",
    "print(mean6)"
   ]
  },
  {
   "cell_type": "code",
   "execution_count": null,
   "metadata": {
    "collapsed": true
   },
   "outputs": [],
   "source": [
    "def test_mean_wind_pressure_weighted_elevated():\n",
    "    \"\"\"Test pressure-weighted mean wind function with a base above the surface.\"\"\"\n",
    "    with UseSampleData():\n",
    "        data = get_upper_air_data(datetime(2016, 5, 22, 0), 'DDC', source='wyoming')\n",
    "    mean6 = mean_pressure_weighted(data.variables['pressure'][:], data.variables['u_wind'][:], data.variables['v_wind'][:], heights=data.variables['height'][:], depth = 3000 * units('meter'), bottom = data.variables['height'][0] + 3000 * units('meter'))\n",
    "    truth = [8.270829843626476, 1.7392601775853547] * units('m/s')\n",
    "    assert_almost_equal(mean6[0], truth[0], 7)    \n",
    "    assert_almost_equal(mean6[1], truth[1], 7)    "
   ]
  },
  {
   "cell_type": "code",
   "execution_count": null,
   "metadata": {
    "collapsed": true
   },
   "outputs": [],
   "source": [
    "test_mean_wind_pressure_weighted_elevated()"
   ]
  },
  {
   "cell_type": "code",
   "execution_count": null,
   "metadata": {
    "collapsed": true
   },
   "outputs": [],
   "source": []
  },
  {
   "cell_type": "code",
   "execution_count": null,
   "metadata": {
    "collapsed": true
   },
   "outputs": [],
   "source": []
  }
 ],
 "metadata": {
  "kernelspec": {
   "display_name": "Python 3",
   "language": "python",
   "name": "python3"
  },
  "language_info": {
   "codemirror_mode": {
    "name": "ipython",
    "version": 3
   },
   "file_extension": ".py",
   "mimetype": "text/x-python",
   "name": "python",
   "nbconvert_exporter": "python",
   "pygments_lexer": "ipython3",
   "version": "3.6.1"
  }
 },
 "nbformat": 4,
 "nbformat_minor": 2
}
