{
 "cells": [
  {
   "cell_type": "code",
   "execution_count": 30,
   "metadata": {},
   "outputs": [],
   "source": [
    "import metpy.calc as mpcalc\n",
    "from metpy.constants import g, Cp_d, Lv, Rd, omega\n",
    "from datetime import datetime\n",
    "from siphon.simplewebservice.wyoming import WyomingUpperAir\n",
    "from metpy.units import units, concatenate\n",
    "import matplotlib.pyplot as plt\n",
    "import numpy as np\n",
    "%matplotlib inline"
   ]
  },
  {
   "cell_type": "code",
   "execution_count": 2,
   "metadata": {},
   "outputs": [],
   "source": [
    "# These functions are PR's for MetPy already\n",
    "\n",
    "def dry_static_energy(heights, temperature):\n",
    "    r\"\"\"Calculate the dry static energy of parcels.\n",
    "\n",
    "    This function will calculate the dry static energy following the first two terms of\n",
    "    equation 3.72 in [REF.\n",
    "\n",
    "    Notes\n",
    "    -----\n",
    "    .. math::\\text{dry static energy} = c_{pd} * T + gz\n",
    "\n",
    "    * :math:`T` is temperature\n",
    "    * :math:`z` is height\n",
    "\n",
    "    Parameters\n",
    "    ----------\n",
    "    heights : array-like\n",
    "        Atmospheric height profile\n",
    "    temperature : array-like\n",
    "        Atmospheric temperature profile\n",
    "\n",
    "    Returns\n",
    "    -------\n",
    "    `pint.Quantity`\n",
    "        The dry static energy.\n",
    "\n",
    "    \"\"\"\n",
    "\n",
    "    return g * heights + Cp_d * temperature\n",
    "\n",
    "\n",
    "def moist_static_energy(heights, temperature, specific_humidity):\n",
    "    r\"\"\"Calculate the moist static energy of parcels.\n",
    "\n",
    "    This function will calculate the moist static energy following equation 3.72 in [REF.\n",
    "\n",
    "    Notes\n",
    "    -----\n",
    "    .. math::\\text{moist static energy} = c_{pd} * T + gz + L_v q\n",
    "\n",
    "    * :math:`T` is temperature\n",
    "    * :math:`z` is height\n",
    "    * :math:`q` is specific humidity\n",
    "\n",
    "    Parameters\n",
    "    ----------\n",
    "    heights : array-like\n",
    "        Atmospheric height profile\n",
    "    temperature : array-like\n",
    "        Atmospheric temperature profile\n",
    "    specific_humidity : array-like\n",
    "        Atmospheric specific humidity profile\n",
    "\n",
    "    Returns\n",
    "    -------\n",
    "    `pint.Quantity`\n",
    "        The moist static energy.\n",
    "\n",
    "    \"\"\"\n",
    "\n",
    "    return dry_static_energy(heights, temperature) + Lv * specific_humidity\n",
    "\n",
    "\n",
    "def specific_humidity_from_mixing_ratio(mixing_ratio):\n",
    "    r\"\"\"Calculate the specific humidity from the mixing ratio.\n",
    "\n",
    "    Parameters\n",
    "    ----------\n",
    "    mixing_ratio: `pint.Quantity`\n",
    "        mixing ratio\n",
    "\n",
    "    Returns\n",
    "    -------\n",
    "    `pint.Quantity`\n",
    "        Specific humidity\n",
    "\n",
    "    Notes\n",
    "    -----\n",
    "    Formula from [Salby1996]_ pg. 118.\n",
    "\n",
    "    .. math:: q = \\frac{w}{1+w}\n",
    "\n",
    "    * :math:`w` is mixing ratio\n",
    "    * :math:`q` is the specific humidity\n",
    "\n",
    "    See Also\n",
    "    --------\n",
    "    mixing_ratio\n",
    "\n",
    "    \"\"\"\n",
    "    return mixing_ratio / (1 + mixing_ratio)"
   ]
  },
  {
   "cell_type": "code",
   "execution_count": 3,
   "metadata": {},
   "outputs": [],
   "source": [
    "class MassEnergyIsohumes(object):\n",
    "    \"\"\"Make isohumes for mass energy plots.\n",
    "    \n",
    "    This class makes isohumes and labels for mass energy plots of \n",
    "    upper air data.\n",
    "    \n",
    "    Attributes\n",
    "    ----------\n",
    "    ax : `matplotlib.axes.Axes`\n",
    "        The underlying Axes instance, which can be used for calling additional\n",
    "        plot functions (e.g. `axvline`)\n",
    "        \n",
    "    \"\"\"\n",
    "    \n",
    "    def __init__(self, ax, pressure, static_dry_energy,\n",
    "                 saturation_specific_humidity,):\n",
    "        \"\"\"Create mass energy plots.\n",
    "        \n",
    "        Parameters\n",
    "        ----------\n",
    "        ax : `matplotlib.axes.Axes`\n",
    "            Source axis to use for plotting.\n",
    "        pressure : array-like\n",
    "            Atmospheric pressure profile\n",
    "        isohume_values : array-like\n",
    "            Isohume values plotted.\n",
    "        static_dry_energy : array_like\n",
    "            Values of static dry energy for the data\n",
    "        saturation_specific_humidity : array_like\n",
    "            Values of saturation specific humidity for the data\n",
    "        \n",
    "        \"\"\"\n",
    "        self.ax = ax\n",
    "        self.pressure = pressure\n",
    "        self.isohume_values = []\n",
    "        self.static_dry_energy = static_dry_energy\n",
    "        self.saturation_specific_humidity = saturation_specific_humidity\n",
    "\n",
    "    def plot_isohumes(self, values=np.arange(10, 100, 10) * units.percent, **kwargs):\n",
    "        \"\"\"Add lines of constant relative humidity.\n",
    "        \n",
    "        Plots lines of constant relative humidity as fiducials.\n",
    "        \n",
    "        Parameters\n",
    "        ----------\n",
    "        values : array_like, optional\n",
    "            Values of relative humidity to plot\n",
    "        kwargs\n",
    "            Other keyword arguments to pass to :func:`~matplotlib.pyplot.plot`\n",
    "        \n",
    "        Returns\n",
    "        -------\n",
    "        list[matplotlib.lines.Line2D]\n",
    "            lines plotted\n",
    "            \n",
    "        \"\"\"\n",
    "        # Default plotting style, updated by any kwargs\n",
    "        plotting_style = {'linewidth': 0.5, 'linestyle': ':', 'color': 'black'}\n",
    "        plotting_style.update(kwargs)\n",
    "        \n",
    "        lines = []\n",
    "       \n",
    "        # Add lines of constant RH\n",
    "        for rh in values:\n",
    "            isohume_energy = (self.static_dry_energy + Lv *\n",
    "                              self.saturation_specific_humidity * rh)\n",
    "            line = self.ax.plot(isohume_energy, pressure, **plotting_style)\n",
    "            lines.append(line)\n",
    "            self.isohume_values.append(rh)\n",
    "        return lines\n",
    "    \n",
    "    def label_isohumes(self, label_y_position=800 * units.hPa, **kwargs):\n",
    "        \"\"\"Add lines of constant relative humidity.\n",
    "        \n",
    "        Plots lines of constant relative humidity as fiducials.\n",
    "        \n",
    "        Parameters\n",
    "        ----------\n",
    "        label_y_position: `pint.Quanity`, optional\n",
    "            Pressure coordinate of relative humidity labels\n",
    "        kwargs\n",
    "            Other keyword arguments to pass to :func:`~matplotlib.pyplot.plot`\n",
    "        \n",
    "        Returns\n",
    "        -------\n",
    "        list[matplotlib.text.Annotation]\n",
    "            annotations plotted\n",
    "            \n",
    "        \"\"\"\n",
    "        # Default text style, updated by kwargs\n",
    "        text_style = {'horizontalalignment': 'center', 'fontsize': 8}\n",
    "        text_style.update(kwargs)\n",
    "        \n",
    "        annotations = []\n",
    "        \n",
    "        # Interpolate data (linearly) to be at the label position\n",
    "        parcel_static_dry_energy = mpcalc.interp(concatenate([label_y_position]), self.pressure, self.static_dry_energy)[0]\n",
    "        parcel_saturation_specific_humidity = mpcalc.interp(concatenate([label_y_position]), self.pressure, self.saturation_specific_humidity)[0]\n",
    "        for rh in self.isohume_values:\n",
    "            label_x_position = (parcel_static_dry_energy + Lv * parcel_saturation_specific_humidity * rh).to('kJ/kg')\n",
    "            annotation = self.ax.annotate(rh.m, xy=(label_x_position, label_y_position), **text_style)\n",
    "            annotations.append(annotation)\n",
    "        return annotations"
   ]
  },
  {
   "cell_type": "code",
   "execution_count": 72,
   "metadata": {},
   "outputs": [],
   "source": [
    "class MassEnergyPlot(object):\n",
    "    \"\"\"Make mass energy plots of data.\n",
    "    \n",
    "    This class makes mass energy plots of upper air data and\n",
    "    the associated marked lines.\n",
    "    \n",
    "    Attributes\n",
    "    ----------\n",
    "    ax : `matplotlib.axes.Axes`\n",
    "        The underlying Axes instance, which can be used for calling additional\n",
    "        plot functions (e.g. `axvline`)\n",
    "    fig : `matplotlib.figure.Figure`\n",
    "        The underlying Figure instance to make addition figure manipulation easy\n",
    "        \n",
    "    \"\"\"\n",
    "    \n",
    "    def __init__(self, fig=None, ax=None):\n",
    "        \"\"\"Create mass energy plots.\n",
    "        \n",
    "        Parameters\n",
    "        ----------\n",
    "        fig : `matplotlib.figure.Figure`, optional\n",
    "            Source figure to use for plotting. If none is given, a new\n",
    "            :class:`matplotlib.figure.Figure` instance will be created.\n",
    "        ax : `matplotlib.axes.Axes`\n",
    "            Source axis to use for plotting. If none is given, a new\n",
    "            :class:`matplotlib.axes.Axes` instance will be created.\n",
    "        \n",
    "        \"\"\"\n",
    "        # Setup figure and axes if we don't have them\n",
    "        if fig is None:\n",
    "            fig = plt.figure(figsize=(11,8))\n",
    "        if ax is None:\n",
    "            ax = plt.subplot(1, 1, 1)\n",
    "        self.fig = fig\n",
    "        self.ax = ax\n",
    "        \n",
    "        # Set default axis limits\n",
    "        self.ax.set_xlim(250, 400)\n",
    "        self.ax.set_ylim(1050, 100)\n",
    "\n",
    "    def isohumes(self, pressure, static_dry_energy, saturation_specific_humidity,\n",
    "                 values=np.arange(10, 100, 10) * units.percent, \n",
    "                 label=True, label_y_position=800 * units.hPa, **kwargs):\n",
    "        \"\"\"Add lines of constant relative humidity.\n",
    "        \n",
    "        Plots lines of constant relative humidity as fiducials.\n",
    "        \n",
    "        Parameters\n",
    "        ----------\n",
    "        static_dry_energy : array_like\n",
    "            Values of static dry energy for the data\n",
    "        saturation_specific_humidity : array_like\n",
    "            Values of saturation specific humidity for the data\n",
    "        values : array_like, optional\n",
    "            Values of relative humidity to plot\n",
    "        label : boolean, optional\n",
    "            Add text indicating the values of relative humidity\n",
    "        label_y_position: `pint.Quanity`, optional\n",
    "            Pressure coordinate of relative humidity labels\n",
    "        kwargs\n",
    "            Other keyword arguments to pass to :func:`~matplotlib.pyplot.plot`\n",
    "        \n",
    "        Returns\n",
    "        -------\n",
    "        list[matplotlib.lines.Line2D]\n",
    "            lines plotted\n",
    "        list[matplotlib.text.Annotation]\n",
    "            annotations plotted\n",
    "            \n",
    "        \"\"\"\n",
    "        isohumes_plotter = MassEnergyIsohumes(self.ax, pressure, static_dry_energy,\n",
    "                                              saturation_specific_humidity)\n",
    "        isohumes_plotter.plot_isohumes()\n",
    "        isohumes_plotter.label_isohumes()\n",
    "                \n",
    "    def shade_precipitable_water(self, pressure, moist_static_energy, \n",
    "                                 dry_static_energy, **kwargs):\n",
    "        \"\"\"Shade area proportional to precipitable water.\n",
    "        \n",
    "        Shades the area where the dry static energy of a parcel is greater than the\n",
    "        moist static energy. This area is proportional to the value of precipitable\n",
    "        water in the column.\n",
    "        \n",
    "        Parameters\n",
    "        ---------\n",
    "        pressure : array-like\n",
    "            Atmospheric pressure profile\n",
    "        moist_static_energy : array-like\n",
    "            Atmospheric moist static energy profile\n",
    "        dry_static_energy : array-like\n",
    "            Atmospheric dry static energy profile\n",
    "        kwargs\n",
    "            Other keyword arguments to pass to :func:`~matplotlib.pyplot.fill_betweenx`\n",
    "        \n",
    "        Returns\n",
    "        -------\n",
    "        \"\"\"\n",
    "        fill_parameters = {'facecolor': 'tab:blue', 'alpha': 0.4}\n",
    "        fill_parameters.update(kwargs)\n",
    "        self.ax.fill_betweenx(pressure, moist_static_energy, dry_static_energy,\n",
    "                              where=dry_static_energy>moist_static_energy, **fill_parameters)\n",
    "\n",
    "    def rce_reference(self, xloc=260 * units('kJ/kg'),\n",
    "                      yloc= concatenate([0, 1100] * units.hPa), label=True,\n",
    "                      text_loc = (260 * units('kJ/kg'), 1045 * units.hPa)):\n",
    "        \"\"\"Reference line for radiative convective equilibrium.\n",
    "        \n",
    "        Add a reference line for plotting energy reference areas.\n",
    "        \n",
    "        Parameters\n",
    "        ----------\n",
    "        xloc : `pint.Quantity`, optional\n",
    "            x-axis location of the reference line\n",
    "        yloc : array-like, optional\n",
    "            y-axis values to plot reference line between\n",
    "        label : boolean,\n",
    "            plotting of a text label annotation\n",
    "        text_loc : array-like, optional\n",
    "            position of the text annotation\n",
    "            \n",
    "        Returns\n",
    "        -------\n",
    "        matplotlib.lines.Line2D\n",
    "            line plotted\n",
    "        matplotlib.text.Annotation\n",
    "            annotation plotted\n",
    "            \n",
    "        \"\"\"\n",
    "        annotation = None\n",
    "        line = self.ax.plot(np.ones((2)) * xloc, yloc, linewidth=0.5)\n",
    "        if label:\n",
    "            annotation = self.ax.annotate('Daily RCE', xy=text_loc, horizontalalignment='center')\n",
    "        return line, annotation\n",
    "    \n",
    "    def shade_cape(self, pressure, moist_static_energy,\n",
    "                   saturated_moist_static_energy):\n",
    "        parcel_moist_static_energy = moist_static_energy[0]\n",
    "        self.ax.plot(concatenate([parcel_moist_static_energy, parcel_moist_static_energy]),\n",
    "                     [np.nanmin(pressure), np.nanmax(pressure)],\n",
    "                     linewidth=0.5, color='tab:green')\n",
    "        self.ax.fill_betweenx(pressure, saturated_moist_static_energy, parcel_moist_static_energy,\n",
    "                              where=parcel_moist_static_energy > saturated_moist_static_energy,\n",
    "                              facecolor='tab:green', alpha=0.4, interpolate=True)\n",
    "    \n",
    "    def shade_cin(self, pressure, temperature, dewpoint, virtual_static_dry_energy):\n",
    "        lcl_pressure, _ = mpcalc.lcl(pressure[0], temperature[0], dewpoint[0])\n",
    "        self.ax.fill_betweenx(pressure, virtual_static_dry_energy, virtual_static_dry_energy[0],\n",
    "                              where=pressure > lcl_pressure,\n",
    "                              facecolor='purple', alpha=0.4, interpolate=True)\n",
    "    \n",
    "    def shade_flux(self, flux, starting_pressure, starting_energy, depth, time=1 * units.sidereal_day, alignment='right', **kwargs):\n",
    "        fill_properties = {'linewidth': 1, 'color': 'orange', 'alpha': 0.5}\n",
    "        fill_properties.update(kwargs)\n",
    "        \n",
    "        width = flux * time * g / depth\n",
    "        \n",
    "        if alignment == 'left':\n",
    "            width = -width\n",
    "        if alignment == 'right':\n",
    "            pass\n",
    "        else:\n",
    "            raise ValueError('Unknown option for alignment: {0}'.format(str(alignment))\n",
    "        \n",
    "        x_points = concatenate([starting_energy, starting_energy + width,\n",
    "                                starting_energy + width, starting_energy])\n",
    "        y_points = concatenate([starting_pressure, starting_pressure,\n",
    "                                starting_pressure - depth, starting_pressure - depth])\n",
    "        self.ax.fill(x_points, y_points, **fill_properties)\n",
    "    \n",
    "    def radiative_cooling_reference(self, xloc=260 * units('kJ/kg')):\n",
    "        self.shade_flux(116 * units('W/m^2'), 1000 * units.hPa, 260 * units('kJ/kg'), 800 * units.hPa, alignment='left', color='c')\n",
    "    \n",
    "    def surface_flux_reference(self, xloc=260 * units('kJ/kg')):\n",
    "        self.shade_flux(116 * units('W/m^2'), 1000 * units.hPa, 260 * units('kJ/kg'), 90 * units.hPa)\n",
    "    \n",
    "    def internal_waves(self, pressure, temperature, amplitude=100 * units.m, levels=np.arange(900, 100, -100) * units.hPa):\n",
    "        for level in levels:\n",
    "            # index of nearest datapoint\n",
    "            idx = np.argmin(np.abs(pressure - level))\n",
    "            \n",
    "            # Calculate temperature change when parcel is displaced\n",
    "            temperature_change = (-g / Cp_d * amplitude).to('delta_degC')\n",
    "            wave_temperature = concatenate([temperature[idx] + temperature_change,\n",
    "                                            temperature[idx] - temperature_change])\n",
    "            \n",
    "            # Calculate pressure change over the parcel displacement\n",
    "            #rho = (-g * pressure[idx] / (Rd  * temperature[idx])).to('kg/m^3')\n",
    "            pressure_change = ((-pressure[idx] * g) / (Rd * temperature[idx])) * amplitude\n",
    "            pressure_change = pressure_change.to('hPa')\n",
    "            wave_pressure = concatenate([pressure[idx] + pressure_change,\n",
    "                                         pressure[idx] - pressure_change])\n",
    "            \n",
    "            # Calculate the change in saturation mixing ratio\n",
    "            specific_humidity_change = mpcalc.mixing_ratio(mpcalc.saturation_vapor_pressure(wave_temperature) ,wave_pressure)\n",
    "            wave_specific_humidity = q[idx] + specific_humidity_change\n",
    "            \n",
    "            # Calculate moist static energy\n",
    "            wave_heights = concatenate([heights[idx] + amplitude,\n",
    "                                       heights[idx] - amplitude])\n",
    "            wave_moist_static_energy = moist_static_energy(wave_heights, wave_temperature, wave_specific_humidity)\n",
    "\n",
    "            \n",
    "            # Plot wave annotations\n",
    "            self.ax.plot(wave_moist_static_energy, wave_pressure, linewidth=3, color='tab:red')\n",
    "            self.ax.plot(concatenate([s[idx], s[idx]]), wave_pressure, linewidth=3, color='tab:red')\n",
    "            self.ax.plot(concatenate([h[idx], h[idx]]), wave_pressure, linewidth=3, color='tab:blue')"
   ]
  },
  {
   "cell_type": "code",
   "execution_count": 73,
   "metadata": {},
   "outputs": [],
   "source": [
    "date = datetime(2002, 11, 11, 0)\n",
    "station = 'BNA'\n",
    "\n",
    "df = WyomingUpperAir.request_data(date, station)\n",
    "pressure = df['pressure'].values * units(df.units['pressure'])\n",
    "temperature = df['temperature'].values * units(df.units['temperature'])\n",
    "dewpoint = df['dewpoint'].values * units(df.units['dewpoint'])\n",
    "heights = df['height'].values * units(df.units['height'])\n",
    "\n",
    "# Calculate mixing ratios\n",
    "q = mpcalc.mixing_ratio(mpcalc.saturation_vapor_pressure(dewpoint), pressure)\n",
    "qs = mpcalc.mixing_ratio(mpcalc.saturation_vapor_pressure(temperature), pressure)\n",
    "\n",
    "# Calculate variables to plot\n",
    "s = dry_static_energy(heights, temperature).to('kJ/kg')\n",
    "sv = dry_static_energy(heights, mpcalc.virtual_temperature(temperature, q)).to('kJ/kg')\n",
    "h = moist_static_energy(heights, temperature, q).to('kJ/kg')\n",
    "hs = moist_static_energy(heights, temperature, qs).to('kJ/kg')"
   ]
  },
  {
   "cell_type": "code",
   "execution_count": 74,
   "metadata": {},
   "outputs": [
    {
     "name": "stdout",
     "output_type": "stream",
     "text": [
      "1 sidereal_day\n",
      "1 sidereal_day\n"
     ]
    },
    {
     "data": {
      "image/png": "[encoded data removed]",
      "text/plain": [
       "<matplotlib.figure.Figure at 0x1247d1ac8>"
      ]
     },
     "metadata": {},
     "output_type": "display_data"
    }
   ],
   "source": [
    "mep = MassEnergyPlot()\n",
    "\n",
    "# Plot the sounding data\n",
    "mep.ax.plot(s, pressure, color='tab:red', linewidth=1.5)\n",
    "mep.ax.plot(sv, pressure, color='tab:red', linestyle='-.')\n",
    "mep.ax.plot(h, pressure, color='tab:blue', linewidth=1.5)\n",
    "mep.ax.plot(hs, pressure, color='tab:red', linewidth=1.5)\n",
    "\n",
    "# Add annotations\n",
    "mep.isohumes(pressure, s, qs)\n",
    "mep.shade_precipitable_water(pressure, s, h)\n",
    "mep.rce_reference()\n",
    "mep.radiative_cooling_reference()\n",
    "mep.surface_flux_reference()\n",
    "mep.internal_waves(pressure, temperature)\n",
    "mep.shade_cape(pressure, h, hs)\n",
    "mep.shade_cin(pressure, temperature, dewpoint, sv)"
   ]
  },
  {
   "cell_type": "code",
   "execution_count": 75,
   "metadata": {},
   "outputs": [
    {
     "data": {
      "text/html": [
       "1.0 kilogram/second<sup>3</sup>"
      ],
      "text/latex": [
       "$1.0\\ \\frac{\\mathrm{kilogram}}{\\mathrm{second}^{3}}$"
      ],
      "text/plain": [
       "<Quantity(1.0, 'kilogram / second ** 3')>"
      ]
     },
     "execution_count": 75,
     "metadata": {},
     "output_type": "execute_result"
    }
   ],
   "source": [
    "(1 * units('W/m^2')).to_base_units()"
   ]
  },
  {
   "cell_type": "code",
   "execution_count": null,
   "metadata": {},
   "outputs": [],
   "source": [
    "width = 11 * units('kJ/kg')\n",
    "depth = 90 * units.hPa\n",
    "flux = width * depth / g"
   ]
  },
  {
   "cell_type": "code",
   "execution_count": 9,
   "metadata": {},
   "outputs": [
    {
     "name": "stdout",
     "output_type": "stream",
     "text": [
      "10095190.50848149 joule / meter ** 2\n"
     ]
    }
   ],
   "source": [
    "print(flux.to('J/m^2'))\n",
    "#print(flux.to('W/m^2'))"
   ]
  },
  {
   "cell_type": "code",
   "execution_count": 10,
   "metadata": {},
   "outputs": [
    {
     "data": {
      "text/html": [
       "99999.99999999999 kilogram meter/second<sup>4</sup>"
      ],
      "text/latex": [
       "$99999.99999999999\\ \\frac{\\mathrm{kilogram} \\cdot \\mathrm{meter}}{\\mathrm{second}^{4}}$"
      ],
      "text/plain": [
       "<Quantity(99999.99999999999, 'kilogram * meter / second ** 4')>"
      ]
     },
     "execution_count": 10,
     "metadata": {},
     "output_type": "execute_result"
    }
   ],
   "source": [
    "(1 * units('kJ hPa/kg')).to_base_units()"
   ]
  },
  {
   "cell_type": "code",
   "execution_count": 11,
   "metadata": {},
   "outputs": [
    {
     "data": {
      "text/html": [
       "1.0 kilogram meter<sup>2</sup>/second<sup>2</sup>"
      ],
      "text/latex": [
       "$1.0\\ \\frac{\\mathrm{kilogram} \\cdot \\mathrm{meter}^{2}}{\\mathrm{second}^{2}}$"
      ],
      "text/plain": [
       "<Quantity(1.0, 'kilogram * meter ** 2 / second ** 2')>"
      ]
     },
     "execution_count": 11,
     "metadata": {},
     "output_type": "execute_result"
    }
   ],
   "source": [
    "(1 * units('J')).to_base_units()"
   ]
  },
  {
   "cell_type": "code",
   "execution_count": 12,
   "metadata": {},
   "outputs": [
    {
     "data": {
      "text/html": [
       "116.84248273705427 watt/meter<sup>2</sup>"
      ],
      "text/latex": [
       "$116.84248273705427\\ \\frac{\\mathrm{watt}}{\\mathrm{meter}^{2}}$"
      ],
      "text/plain": [
       "<Quantity(116.84248273705427, 'watt / meter ** 2')>"
      ]
     },
     "execution_count": 12,
     "metadata": {},
     "output_type": "execute_result"
    }
   ],
   "source": [
    "sec_in_day = (60 * 60 * 24) * units.seconds\n",
    "(flux/sec_in_day).to('W/m^2')"
   ]
  },
  {
   "cell_type": "code",
   "execution_count": null,
   "metadata": {},
   "outputs": [],
   "source": []
  },
  {
   "cell_type": "code",
   "execution_count": 13,
   "metadata": {},
   "outputs": [
    {
     "ename": "NameError",
     "evalue": "name 'shade_flux' is not defined",
     "output_type": "error",
     "traceback": [
      "\u001b[0;31m---------------------------------------------------------------------------\u001b[0m",
      "\u001b[0;31mNameError\u001b[0m                                 Traceback (most recent call last)",
      "\u001b[0;32m<ipython-input-13-96569f3de363>\u001b[0m in \u001b[0;36m<module>\u001b[0;34m()\u001b[0m\n\u001b[0;32m----> 1\u001b[0;31m \u001b[0mshade_flux\u001b[0m\u001b[0;34m(\u001b[0m\u001b[0;36m10\u001b[0m\u001b[0;34m**\u001b[0m\u001b[0;36m7\u001b[0m \u001b[0;34m*\u001b[0m \u001b[0munits\u001b[0m\u001b[0;34m(\u001b[0m\u001b[0;34m'J/m^2'\u001b[0m\u001b[0;34m)\u001b[0m\u001b[0;34m,\u001b[0m \u001b[0;36m1000\u001b[0m \u001b[0;34m*\u001b[0m \u001b[0munits\u001b[0m\u001b[0;34m.\u001b[0m\u001b[0mhPa\u001b[0m\u001b[0;34m,\u001b[0m \u001b[0;36m0\u001b[0m \u001b[0;34m*\u001b[0m \u001b[0munits\u001b[0m\u001b[0;34m(\u001b[0m\u001b[0;34m'kJ/kg'\u001b[0m\u001b[0;34m)\u001b[0m\u001b[0;34m,\u001b[0m \u001b[0;36m90\u001b[0m \u001b[0;34m*\u001b[0m \u001b[0munits\u001b[0m\u001b[0;34m.\u001b[0m\u001b[0mhPa\u001b[0m\u001b[0;34m)\u001b[0m\u001b[0;34m\u001b[0m\u001b[0m\n\u001b[0m",
      "\u001b[0;31mNameError\u001b[0m: name 'shade_flux' is not defined"
     ]
    }
   ],
   "source": [
    "shade_flux(10**7 * units('J/m^2'), 1000 * units.hPa, 0 * units('kJ/kg'), 90 * units.hPa)"
   ]
  },
  {
   "cell_type": "code",
   "execution_count": 60,
   "metadata": {},
   "outputs": [
    {
     "data": {
      "text/html": [
       "180.0 degree sidereal_day/pi"
      ],
      "text/latex": [
       "$180.0\\ \\frac{\\mathrm{degree} \\cdot \\mathrm{sidereal_day}}{\\mathrm{pi}}$"
      ],
      "text/plain": [
       "<Quantity(180.0, 'degree * sidereal_day / pi')>"
      ]
     },
     "execution_count": 60,
     "metadata": {},
     "output_type": "execute_result"
    }
   ],
   "source": [
    "360 * units.degrees / omega"
   ]
  },
  {
   "cell_type": "code",
   "execution_count": 62,
   "metadata": {},
   "outputs": [
    {
     "data": {
      "text/html": [
       "86164.09053083287 second"
      ],
      "text/latex": [
       "$86164.09053083287\\ \\mathrm{second}$"
      ],
      "text/plain": [
       "<Quantity(86164.09053083287, 'second')>"
      ]
     },
     "execution_count": 62,
     "metadata": {},
     "output_type": "execute_result"
    }
   ],
   "source": [
    "(1 * units.sidereal_day).to('seconds')"
   ]
  },
  {
   "cell_type": "code",
   "execution_count": null,
   "metadata": {},
   "outputs": [],
   "source": []
  }
 ],
 "metadata": {
  "kernelspec": {
   "display_name": "Python 3",
   "language": "python",
   "name": "python3"
  },
  "language_info": {
   "codemirror_mode": {
    "name": "ipython",
    "version": 3
   },
   "file_extension": ".py",
   "mimetype": "text/x-python",
   "name": "python",
   "nbconvert_exporter": "python",
   "pygments_lexer": "ipython3",
   "version": "3.6.3"
  }
 },
 "nbformat": 4,
 "nbformat_minor": 2
}
