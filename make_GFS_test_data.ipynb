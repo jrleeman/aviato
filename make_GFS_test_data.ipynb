{
 "cells": [
  {
   "cell_type": "code",
   "execution_count": 1,
   "metadata": {
    "collapsed": true
   },
   "outputs": [],
   "source": [
    "import os\n",
    "import numpy as np\n",
    "from siphon.ncss import NCSS\n",
    "from netCDF4 import num2date, Dataset\n",
    "from datetime import datetime"
   ]
  },
  {
   "cell_type": "code",
   "execution_count": 6,
   "metadata": {
    "collapsed": false
   },
   "outputs": [],
   "source": [
    "year = '2017'\n",
    "month = '04'\n",
    "day = '05'\n",
    "hour = '12'\n",
    "ncss = NCSS('http://thredds.ucar.edu/thredds/ncss/grib/NCEP/GFS/Global_0p5deg/GFS_Global_0p5deg_'\n",
    "            +year+month+day+'_'+hour+'00.grib2')\n",
    "query = ncss.query()\n",
    "query.variables('Geopotential_height_isobaric',\n",
    "                'Temperature_isobaric',\n",
    "                'u-component_of_wind_isobaric',\n",
    "                'v-component_of_wind_isobaric')\n",
    "query.add_lonlat().vertical_level(50000)\n",
    "query.time(datetime(int(year),int(month),int(day),int(hour)))\n",
    "query.lonlat_box(north=65, south=15, east=310, west=220)\n",
    "data = ncss.get_data(query)"
   ]
  },
  {
   "cell_type": "code",
   "execution_count": 2,
   "metadata": {
    "collapsed": true
   },
   "outputs": [],
   "source": [
    "ncss = NCSS('http://nomads.ncdc.noaa.gov/thredds/ncss/grid/namanl/201604/20160416/namanl_218_20160416_1800_000.grb')\n",
    "now = datetime.utcnow()\n",
    "\n",
    "# Query for Latest GFS Run\n",
    "hgt = ncss.query().all_times().accept('netcdf').variables('Geopotential_height','u_wind','v_wind').add_lonlat()\n",
    "\n",
    "# Actually getting the data\n",
    "data = ncss.get_data(hgt)"
   ]
  },
  {
   "cell_type": "code",
   "execution_count": 3,
   "metadata": {
    "collapsed": false
   },
   "outputs": [
    {
     "name": "stdout",
     "output_type": "stream",
     "text": [
      "<class 'netCDF4._netCDF4.Dataset'>\n",
      "root group (NETCDF3_CLASSIC data model, file format NETCDF3):\n",
      "    Conventions: CF-1.0\n",
      "    Originating_center: US National Weather Service - NCEP(WMC) (7)\n",
      "    Generating_Model: MESO NAM Model\n",
      "    Product_Type: Initialized analysis product\n",
      "    title: US National Weather Service - NCEP(WMC) MESO NAM Model Initialized analysis product\n",
      "    institution: Center US National Weather Service - NCEP(WMC) (7)\n",
      "    source: Initialized analysis product\n",
      "    history: Direct read of GRIB-1 into NetCDF-Java 4 API\n",
      "    CF:feature_type: GRID\n",
      "    file_format: GRIB-1\n",
      "    location: /nomads3_data/raid2/noaaport/merged/namanl/201604/20160416/namanl_218_20160416_1800_000.grb\n",
      "    _CoordinateModelRunDate: 2016-04-16T18:00:00Z\n",
      "    History: Translated to CF-1.0 Conventions by Netcdf-Java CDM (NetcdfCFWriter)\n",
      "Original Dataset = /nomads3_data/raid2/noaaport/merged/namanl/201604/20160416/namanl_218_20160416_1800_000.grb; Translation Date = Thu Apr 06 11:38:34 EDT 2017\n",
      "    dimensions(sizes): time(1), isobaric1(39), y(428), x(614)\n",
      "    variables(dimensions): float32 \u001b[4mGeopotential_height\u001b[0m(time,isobaric1,y,x), int32 \u001b[4mtime\u001b[0m(time), float64 \u001b[4misobaric1\u001b[0m(isobaric1), float64 \u001b[4my\u001b[0m(y), float64 \u001b[4mx\u001b[0m(x), |S1 \u001b[4mLambert_Conformal\u001b[0m(), float64 \u001b[4mlat\u001b[0m(y,x), float64 \u001b[4mlon\u001b[0m(y,x), float32 \u001b[4mv_wind\u001b[0m(time,isobaric1,y,x), float32 \u001b[4mu_wind\u001b[0m(time,isobaric1,y,x)\n",
      "    groups: \n",
      "\n"
     ]
    }
   ],
   "source": [
    "print(data)"
   ]
  },
  {
   "cell_type": "code",
   "execution_count": 4,
   "metadata": {
    "collapsed": false
   },
   "outputs": [],
   "source": [
    "#output file\n",
    "outfile = 'nam_xarray.nc'\n",
    "try:\n",
    "    os.remove(outfile)\n",
    "except OSError:\n",
    "    pass\n",
    "dsout = Dataset(outfile, 'w')\n",
    "\n",
    "#Copy dimensions\n",
    "for dname, the_dim in data.dimensions.items():\n",
    "    #print dname, len(the_dim)\n",
    "    dsout.createDimension(dname, len(the_dim) if not the_dim.isunlimited() else None)\n",
    "\n",
    "for v_name, varin in data.variables.items():\n",
    "    #print(v_name, varin)\n",
    "    outVar = dsout.createVariable(v_name, varin.datatype, varin.dimensions)\n",
    "    #print varin.datatype\n",
    "    \n",
    "    # Copy variable attributes\n",
    "    outVar.setncatts({k: varin.getncattr(k) for k in varin.ncattrs()})\n",
    "    \n",
    "    # Copy actual data\n",
    "    outVar[:] = varin[:]\n",
    "\n",
    "dsout.close()"
   ]
  },
  {
   "cell_type": "code",
   "execution_count": 64,
   "metadata": {
    "collapsed": false
   },
   "outputs": [
    {
     "name": "stdout",
     "output_type": "stream",
     "text": [
      "36.0899902344\n"
     ]
    }
   ],
   "source": [
    "#print(np.max(data.variables['Temperature_sigma'][:])-273.15)"
   ]
  },
  {
   "cell_type": "code",
   "execution_count": null,
   "metadata": {
    "collapsed": true
   },
   "outputs": [],
   "source": []
  }
 ],
 "metadata": {
  "anaconda-cloud": {},
  "kernelspec": {
   "display_name": "Python [conda root]",
   "language": "python",
   "name": "conda-root-py"
  },
  "language_info": {
   "codemirror_mode": {
    "name": "ipython",
    "version": 3
   },
   "file_extension": ".py",
   "mimetype": "text/x-python",
   "name": "python",
   "nbconvert_exporter": "python",
   "pygments_lexer": "ipython3",
   "version": "3.5.3"
  }
 },
 "nbformat": 4,
 "nbformat_minor": 1
}
