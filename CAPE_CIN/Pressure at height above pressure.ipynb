{
 "cells": [
  {
   "cell_type": "code",
   "execution_count": 4,
   "metadata": {},
   "outputs": [],
   "source": [
    "import metpy.calc as mpcalc\n",
    "from metpy.units import units"
   ]
  },
  {
   "cell_type": "code",
   "execution_count": 28,
   "metadata": {
    "collapsed": true
   },
   "outputs": [],
   "source": [
    "def pressure_at_height_above_pressure(pressure, height):\n",
    "    r\"\"\"Calculate the pressure of a certain height above another pressure level.\n",
    "\n",
    "    This assumes a standard atmosphere.\n",
    "\n",
    "    Parameters\n",
    "    ----------\n",
    "    pressure : `pint.Quantity`\n",
    "        Pressure level\n",
    "    height : `pint.Quantity`\n",
    "        Height above a pressure level\n",
    "\n",
    "    Returns\n",
    "    -------\n",
    "    `pint.Quantity`\n",
    "        The corresponding pressure value for the height above the pressure level\n",
    "\n",
    "    See Also\n",
    "    -----\n",
    "    pressure_to_height_std, height_to_pressure_std\n",
    "    \"\"\"\n",
    "    \n",
    "    pressure_level_height = mpcalc.pressure_to_height_std(pressure)\n",
    "    return mpcalc.height_to_pressure_std(pressure_level_height + height)\n",
    "\n",
    "def height_at_pressure_above_height(height, pressure):\n",
    "    r\"\"\"Calculate the hegiht of a certain pressure above another height.\n",
    "\n",
    "    This assumes a standard atmosphere.\n",
    "\n",
    "    Parameters\n",
    "    ----------\n",
    "    height : `pint.Quantity`\n",
    "        Height level\n",
    "    pressure : `pint.Quantity`\n",
    "        Pressure above height level\n",
    "    \n",
    "    Returns\n",
    "    -------\n",
    "    `pint.Quantity`\n",
    "        The corresponding height value for the pressure above the height level\n",
    "\n",
    "    See Also\n",
    "    -----\n",
    "    pressure_to_height_std, height_to_pressure_std\n",
    "    \"\"\"\n",
    "    \n",
    "    height_level_pressure = mpcalc.height_to_pressure_std(height)\n",
    "    return mpcalc.pressure_to_height_std(height_level_pressure - pressure)"
   ]
  },
  {
   "cell_type": "code",
   "execution_count": 24,
   "metadata": {},
   "outputs": [
    {
     "data": {
      "text/html": [
       "110.82867575567799 meter"
      ],
      "text/latex": [
       "$110.82867575567799\\ \\mathrm{meter}$"
      ],
      "text/plain": [
       "<Quantity(110.82867575567799, 'meter')>"
      ]
     },
     "execution_count": 24,
     "metadata": {},
     "output_type": "execute_result"
    }
   ],
   "source": [
    "mpcalc.pressure_to_height_std(1000 * units.hPa).to('m')"
   ]
  },
  {
   "cell_type": "code",
   "execution_count": 25,
   "metadata": {},
   "outputs": [
    {
     "data": {
      "text/html": [
       "988.0028867026421 meter"
      ],
      "text/latex": [
       "$988.0028867026421\\ \\mathrm{meter}$"
      ],
      "text/plain": [
       "<Quantity(988.0028867026421, 'meter')>"
      ]
     },
     "execution_count": 25,
     "metadata": {},
     "output_type": "execute_result"
    }
   ],
   "source": [
    "mpcalc.pressure_to_height_std(900 * units.hPa).to('m')"
   ]
  },
  {
   "cell_type": "code",
   "execution_count": 26,
   "metadata": {},
   "outputs": [
    {
     "data": {
      "text/html": [
       "877.1742109469641 meter"
      ],
      "text/latex": [
       "$877.1742109469641\\ \\mathrm{meter}$"
      ],
      "text/plain": [
       "<Quantity(877.1742109469641, 'meter')>"
      ]
     },
     "execution_count": 26,
     "metadata": {},
     "output_type": "execute_result"
    }
   ],
   "source": [
    "mpcalc.pressure_to_height_std(900 * units.hPa).to('m') - mpcalc.pressure_to_height_std(1000 * units.hPa).to('m')"
   ]
  },
  {
   "cell_type": "code",
   "execution_count": 27,
   "metadata": {},
   "outputs": [
    {
     "data": {
      "text/html": [
       "900.0000011953321 millibar"
      ],
      "text/latex": [
       "$900.0000011953321\\ \\mathrm{millibar}$"
      ],
      "text/plain": [
       "<Quantity(900.0000011953321, 'millibar')>"
      ]
     },
     "execution_count": 27,
     "metadata": {},
     "output_type": "execute_result"
    }
   ],
   "source": [
    "pressure_at_height_above_pressure(1000 * units.hPa, 877.1742 * units.m)"
   ]
  },
  {
   "cell_type": "code",
   "execution_count": 31,
   "metadata": {},
   "outputs": [
    {
     "name": "stdout",
     "output_type": "stream",
     "text": [
      "900.0000006844515 millibar\n",
      "0.9880028804343712 kilometer\n"
     ]
    }
   ],
   "source": [
    "height = 110.82867 * units.meter\n",
    "pressure = 100 * units.hPa\n",
    "pressure_at_height = mpcalc.height_to_pressure_std(height)\n",
    "print(pressure_at_height - pressure)\n",
    "print(mpcalc.pressure_to_height_std(pressure_at_height - pressure))"
   ]
  },
  {
   "cell_type": "code",
   "execution_count": null,
   "metadata": {
    "collapsed": true
   },
   "outputs": [],
   "source": []
  }
 ],
 "metadata": {
  "kernelspec": {
   "display_name": "Python 3",
   "language": "python",
   "name": "python3"
  },
  "language_info": {
   "codemirror_mode": {
    "name": "ipython",
    "version": 3
   },
   "file_extension": ".py",
   "mimetype": "text/x-python",
   "name": "python",
   "nbconvert_exporter": "python",
   "pygments_lexer": "ipython3",
   "version": "3.6.1"
  }
 },
 "nbformat": 4,
 "nbformat_minor": 2
}
